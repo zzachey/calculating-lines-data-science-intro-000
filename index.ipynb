{
 "cells": [
  {
   "cell_type": "markdown",
   "metadata": {},
   "source": [
    "# Calculating a line"
   ]
  },
  {
   "cell_type": "markdown",
   "metadata": {},
   "source": [
    "### Learning Objectives"
   ]
  },
  {
   "cell_type": "markdown",
   "metadata": {},
   "source": [
    "* Understand how to calculate the slope variable for a given line\n",
    "* Understand how to calculate the y-intercept variable for a given line"
   ]
  },
  {
   "cell_type": "markdown",
   "metadata": {},
   "source": [
    "### Introduction"
   ]
  },
  {
   "cell_type": "markdown",
   "metadata": {},
   "source": [
    "Previously, we saw how a regression line can help us describe our relationship between an input variable like a movie budget and an output variable like the expected revenue from a movie with that budget.  Let's take a look at that line again. "
   ]
  },
  {
   "cell_type": "markdown",
   "metadata": {
    "collapsed": true
   },
   "source": [
    "![](./line.png)"
   ]
  },
  {
   "cell_type": "markdown",
   "metadata": {},
   "source": [
    "We also showed how we can describe a line with the formula $y = mx + b $, where $m$ is the slope and $b$ is the y-intercept of the line.  One of the benefits of representing our line as a formula is that we then can calculate the $y$ value of our line for any input of $x$."
   ]
  },
  {
   "cell_type": "code",
   "execution_count": null,
   "metadata": {},
   "outputs": [],
   "source": [
    "def y(x):\n",
    "    return 3*x + 0 \n",
    "\n",
    "y(0)"
   ]
  },
  {
   "cell_type": "code",
   "execution_count": null,
   "metadata": {},
   "outputs": [],
   "source": [
    "y(60000000)"
   ]
  },
  {
   "cell_type": "markdown",
   "metadata": {},
   "source": [
    "We know what these $m$ and $b$ values represent.  However, we still need to learn how to derive these values from an input line.  "
   ]
  },
  {
   "cell_type": "markdown",
   "metadata": {},
   "source": [
    "### Calculating the slope variable "
   ]
  },
  {
   "cell_type": "markdown",
   "metadata": {},
   "source": [
    "Say the following are a list of points along a line.\n",
    "\n",
    "| X       | Y            | \n",
    "| ------------- |:-------------:| \n",
    "| 0      |0 | \n",
    "| 30       |90  | \n",
    "| 60       |180  | "
   ]
  },
  {
   "cell_type": "markdown",
   "metadata": {},
   "source": [
    "How do we calculate the slope $m$ given these points along the line?  \n",
    "\n",
    "This is the technique.  We can determine the slope by taking any two points along the line and looking at the ** ratio of the vertical distance travelled to the horizontal distance travelled**.  Rise over run.\n",
    "\n",
    "Or, in math, it's:\n",
    "\n",
    "$m = \\frac{\\Delta y}{\\Delta x }$\n",
    "> The $\\Delta$ is the capitalized version of the Greek letter Delta.  Delta means change.  So you can the read the above formula as $m$ equals change in $y$ divided by change in $x$.\n",
    "\n",
    "Let's take another look of our graph and our line.  Let's look at $x$ equal to zero and $x$ equal to 30 million.  Plugging the numbers into our formula, we see that the slope between those two points is:\n",
    "\n",
    "\n",
    "* $\\Delta x$ = 30 \n",
    "* $\\Delta y$ = 90 \n",
    "* $\\frac{\\Delta y}{\\Delta x} = \\frac{90}{30}  = 3$\n",
    "\n",
    "In other words, change in $x$ means our ending $x$ value minus our starting $x$ value and change in $y$ means our ending $y$ value minus our $y$ initial $y$ value .  \n",
    "\n",
    "Therefore, we can describe our $\\Delta y$ and $\\Delta x$ as the following: \n",
    "\n",
    "* $\\Delta y = y_1-  y_0$\n",
    "* $\\Delta x = x_1 - x_0$\n",
    "\n",
    "where $y_1$ is our ending point's $y$ value, $y_0$ is our initial point's $y$ value and $x_1$ and $x_0$ are our ending and initial $x$ values, respectively.   \n",
    "\n",
    "**Altogether**, we can say $m$ is the following: \n",
    "\n",
    "> given a beginning point $(x_0, y_0)$ and an ending point $(x_1, y_1)$ along any segment of a straight line, the slope of that line $m$ equals the following:  \n",
    "\n",
    "> $$m = \\frac{(y_1 - y_0)}{(x_1 - x_0)}$$"
   ]
  },
  {
   "cell_type": "markdown",
   "metadata": {},
   "source": [
    "Now, let's apply this formula to our line.  We can choose any two points along a straight line to calculate the slope of that line.  So we now choose the second and third points in our table:\n",
    "\n",
    "* our initial point (30, 90)\n",
    "* our ending point of (60, 180)  \n",
    "\n",
    "Then plugging these coordinates into our formula, we have the following:\n",
    "\n",
    "> $m =\\frac{(y_1 - y_0)}{(x_1 - x_0)} =  \\frac{(180 - 90)}{(60 - 30)} = 90/30 = 3$"
   ]
  },
  {
   "cell_type": "markdown",
   "metadata": {},
   "source": [
    "![](./regression-m-calc.png)"
   ]
  },
  {
   "cell_type": "markdown",
   "metadata": {},
   "source": [
    "So that is how we calculate the slope of a line.\n",
    ">  Rise over run. Take any two points along that line and divide distance travelled vertically from the distance travelled horizontally.    Change in $y$ divided by change in $x$."
   ]
  },
  {
   "cell_type": "markdown",
   "metadata": {},
   "source": [
    "### Calculating y-intercept"
   ]
  },
  {
   "cell_type": "markdown",
   "metadata": {},
   "source": [
    "Now that we know how to calculate the slope, let's turn our attention to calculating the y-intercept.  \n",
    "\n",
    "For example, look at the line below."
   ]
  },
  {
   "cell_type": "markdown",
   "metadata": {},
   "source": [
    "![](./increased-plot.png)"
   ]
  },
  {
   "cell_type": "markdown",
   "metadata": {},
   "source": [
    "If you look at the far-left of the x-axis you will see that our $y$ value no longer is 0 when $x$ is 0.  So we should calculate the value of our y-intercept, $b$.  Here's what we can do.  "
   ]
  },
  {
   "cell_type": "markdown",
   "metadata": {},
   "source": [
    "**First, let's figure out the slope of our line.**  Once again, we can choose any two points on the line to do this.  So we choose the points (60, 208) and (30, 118).  Plugging this into our formula for $m$ we have:  "
   ]
  },
  {
   "cell_type": "markdown",
   "metadata": {},
   "source": [
    "> $m =\\frac{(y_1 - y_0)}{(x_1 - x_0)} =  \\frac{(208 - 118)}{(60 - 30)} = 90/30 = 3$"
   ]
  },
  {
   "cell_type": "markdown",
   "metadata": {
    "collapsed": true
   },
   "source": [
    "Ok, now we plug in our value of $m$ into our formula: "
   ]
  },
  {
   "cell_type": "markdown",
   "metadata": {},
   "source": [
    "$y = 3x + b $"
   ]
  },
  {
   "cell_type": "markdown",
   "metadata": {},
   "source": [
    "Now to solve for $b$, we need to fill in values for $y$ and $x$. \n",
    "\n",
    "It turns out we have lots of values for $y$ and $x$ to fill in.  Any $y$ and $x$ value along the line can be used.  For example, we can see from our line that when x = 30, y = 118.  Let's plug that into our formula and solve for $b$: "
   ]
  },
  {
   "cell_type": "markdown",
   "metadata": {},
   "source": [
    "> $ 118 = 3 * 30 + b $\n",
    "\n",
    "> $ 118 = 90 + b $\n",
    "\n",
    "> $ 28 = b $"
   ]
  },
  {
   "cell_type": "markdown",
   "metadata": {},
   "source": [
    "Solving for $b$, we see that $b$ = 28.  So now we have filled in our $m$ and $b$ variables for our line, and can describe our blue line above by the formula $y = 3x + 28 $.  Or in code it looks like: "
   ]
  },
  {
   "cell_type": "code",
   "execution_count": null,
   "metadata": {},
   "outputs": [],
   "source": [
    "def y(x):\n",
    "    return 3*x + 28"
   ]
  },
  {
   "cell_type": "markdown",
   "metadata": {},
   "source": [
    "Let's see how well we did by providing a value of $x$, and seeing if the $y$ value lines up to the $y$ value of the line in our chart."
   ]
  },
  {
   "cell_type": "code",
   "execution_count": null,
   "metadata": {},
   "outputs": [],
   "source": [
    "y(20)"
   ]
  },
  {
   "cell_type": "markdown",
   "metadata": {},
   "source": [
    "When plugging an $x$ value of 20 million into our formula, we see that $y$ equals 88 million.  Let's look at our graph above and compare this result to the $y$ value where $x$ is 20 million.  It seems we did a good job of getting the slope by calculating $m$ and using an $x$ and $y$ value pair to solve for the y-intercept.  "
   ]
  },
  {
   "cell_type": "markdown",
   "metadata": {},
   "source": [
    "### Summary"
   ]
  },
  {
   "cell_type": "markdown",
   "metadata": {
    "collapsed": true
   },
   "source": [
    "In this lesson, we saw how to calculate the slope and y-intercept variables that describe a line.  We can take any two points along the line to calculate our slope variable.  This is because given two points along the straight line, we can divide the change in $y$ over those two points by the change in $x$ over those two points to get the slope.  Then we can take that slope ($m$), pick a point along the line, plug that point's $x$ value and $y$ value into the $y = mx + b$ formula, and finally use algebra to solve for $b$ to discover the y-intercept."
   ]
  }
 ],
 "metadata": {
  "kernelspec": {
   "display_name": "Python 3",
   "language": "python",
   "name": "python3"
  },
  "language_info": {
   "codemirror_mode": {
    "name": "ipython",
    "version": 3
   },
   "file_extension": ".py",
   "mimetype": "text/x-python",
   "name": "python",
   "nbconvert_exporter": "python",
   "pygments_lexer": "ipython3",
   "version": "3.6.6"
  }
 },
 "nbformat": 4,
 "nbformat_minor": 2
}
